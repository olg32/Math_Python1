{
 "cells": [
  {
   "cell_type": "code",
   "execution_count": 8,
   "id": "cd0d6ff1-298d-4b8e-a2f7-a5ffe4d94649",
   "metadata": {},
   "outputs": [],
   "source": [
    "from numpy import random\n",
    "def gn():\n",
    "    num2guess=random.randint(1,101)\n",
    "    userguess=int(input('Guess a number between 1 and 100: '))\n",
    "    while userguess!=num2guess:\n",
    "        if userguess<num2guess:\n",
    "             print('Guess Higher: ')\n",
    "        elif userguess>num2guess:\n",
    "             print('Guess Lower: ')\n",
    "\n",
    "        userguess=int(input('Guess again: '))\n",
    "    print('YES! You guessed it correctly!')   "
   ]
  },
  {
   "cell_type": "code",
   "execution_count": null,
   "id": "ef0188ff-aebb-4f07-88ca-3ac5aba4698a",
   "metadata": {},
   "outputs": [
    {
     "name": "stdin",
     "output_type": "stream",
     "text": [
      "Guess a number between 1 and 100:  42\n"
     ]
    },
    {
     "name": "stdout",
     "output_type": "stream",
     "text": [
      "Guess Higher: \n"
     ]
    },
    {
     "name": "stdin",
     "output_type": "stream",
     "text": [
      "Guess again:  53\n"
     ]
    },
    {
     "name": "stdout",
     "output_type": "stream",
     "text": [
      "Guess Lower: \n"
     ]
    }
   ],
   "source": [
    "gn()"
   ]
  },
  {
   "cell_type": "code",
   "execution_count": null,
   "id": "045808cb-cdc2-40d5-a16b-64bc2be9d0d9",
   "metadata": {},
   "outputs": [],
   "source": []
  },
  {
   "cell_type": "code",
   "execution_count": null,
   "id": "46bd9aa3-7b03-418a-8309-ca0eaffa2f07",
   "metadata": {},
   "outputs": [],
   "source": []
  },
  {
   "cell_type": "code",
   "execution_count": null,
   "id": "6333b92c-23aa-4d6f-a1ed-7187bafe5674",
   "metadata": {},
   "outputs": [],
   "source": []
  },
  {
   "cell_type": "code",
   "execution_count": null,
   "id": "f8318d30-483b-4aa5-9537-590565316df8",
   "metadata": {},
   "outputs": [],
   "source": []
  },
  {
   "cell_type": "code",
   "execution_count": null,
   "id": "88d51cea-9741-485e-ab87-9e06195420c9",
   "metadata": {},
   "outputs": [],
   "source": []
  },
  {
   "cell_type": "code",
   "execution_count": null,
   "id": "055c62ed-8316-40b3-8419-a4853ddd72eb",
   "metadata": {},
   "outputs": [],
   "source": []
  },
  {
   "cell_type": "code",
   "execution_count": null,
   "id": "6de26ffe-0a8e-4cb9-a7b8-6930d4f2a2e1",
   "metadata": {},
   "outputs": [],
   "source": []
  },
  {
   "cell_type": "code",
   "execution_count": null,
   "id": "8a5ff365-da66-4668-a23e-f99d0b7e9d5f",
   "metadata": {},
   "outputs": [],
   "source": []
  },
  {
   "cell_type": "code",
   "execution_count": null,
   "id": "e0527b42-f65c-4ce8-97e5-a50c0aa9a43f",
   "metadata": {},
   "outputs": [],
   "source": []
  },
  {
   "cell_type": "code",
   "execution_count": null,
   "id": "fd2cd5f8-4a71-4cbc-94f1-28b23c7042cc",
   "metadata": {},
   "outputs": [],
   "source": []
  },
  {
   "cell_type": "code",
   "execution_count": null,
   "id": "a94a7853-788d-45c2-bc54-921eadb54b91",
   "metadata": {},
   "outputs": [],
   "source": []
  },
  {
   "cell_type": "code",
   "execution_count": null,
   "id": "4621a38c-acf7-4e1d-a5ad-9d8aa83a718e",
   "metadata": {},
   "outputs": [],
   "source": []
  },
  {
   "cell_type": "code",
   "execution_count": null,
   "id": "6f1d61a9-c902-4d56-8427-4929d8edf8dc",
   "metadata": {},
   "outputs": [],
   "source": []
  },
  {
   "cell_type": "code",
   "execution_count": null,
   "id": "4f419dd0-d4f3-4d04-9fd3-e16eaa65e20e",
   "metadata": {},
   "outputs": [],
   "source": []
  }
 ],
 "metadata": {
  "kernelspec": {
   "display_name": "Python 3 (ipykernel)",
   "language": "python",
   "name": "python3"
  },
  "language_info": {
   "codemirror_mode": {
    "name": "ipython",
    "version": 3
   },
   "file_extension": ".py",
   "mimetype": "text/x-python",
   "name": "python",
   "nbconvert_exporter": "python",
   "pygments_lexer": "ipython3",
   "version": "3.12.1"
  }
 },
 "nbformat": 4,
 "nbformat_minor": 5
}
