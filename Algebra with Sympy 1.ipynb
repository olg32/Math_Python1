{
 "cells": [
  {
   "cell_type": "code",
   "execution_count": 1,
   "id": "ef5d7134-f88e-4edd-acfa-814c3ac0e05f",
   "metadata": {},
   "outputs": [],
   "source": [
    "import sympy as sym\n",
    "from IPython.display import display,Math"
   ]
  },
  {
   "cell_type": "code",
   "execution_count": 4,
   "id": "b0177a85-2b53-4a24-bcc4-cdc3a07fb458",
   "metadata": {},
   "outputs": [
    {
     "data": {
      "text/latex": [
       "$\\displaystyle - 2 q + 2 + \\frac{3}{q}$"
      ],
      "text/plain": [
       "<IPython.core.display.Math object>"
      ]
     },
     "metadata": {},
     "output_type": "display_data"
    },
    {
     "data": {
      "text/latex": [
       "$\\displaystyle q=\\left[ \\frac{1}{2} - \\frac{\\sqrt{7}}{2}, \\  \\frac{1}{2} + \\frac{\\sqrt{7}}{2}\\right]$"
      ],
      "text/plain": [
       "<IPython.core.display.Math object>"
      ]
     },
     "metadata": {},
     "output_type": "display_data"
    }
   ],
   "source": [
    "q = sym.symbols('q')\n",
    "eq = 3*q + 4/q +3 - 5*q - 1/q -1\n",
    "display(Math(sym.latex(eq)))\n",
    "display(Math('q=' + sym.latex(sym.solve(eq,q))))"
   ]
  },
  {
   "cell_type": "markdown",
   "id": "2b6333ed-bc6e-40ee-916d-74be943358a0",
   "metadata": {},
   "source": [
    "###Second Problem"
   ]
  },
  {
   "cell_type": "code",
   "execution_count": 7,
   "id": "16f05320-2dc6-4213-810e-2e9a4ec2e360",
   "metadata": {},
   "outputs": [
    {
     "data": {
      "text/latex": [
       "$\\displaystyle 3 q^{2} + 2 q - \\frac{5}{q} - \\frac{4}{q^{3}}$"
      ],
      "text/plain": [
       "<IPython.core.display.Math object>"
      ]
     },
     "metadata": {},
     "output_type": "display_data"
    }
   ],
   "source": [
    "eq = 2*q + 3*q**2  -5/q - 4/q**3\n",
    "display(Math(sym.latex(eq)))\n"
   ]
  },
  {
   "cell_type": "code",
   "execution_count": 8,
   "id": "72419b67-75a9-4b5b-b1d2-79c2839475cd",
   "metadata": {},
   "outputs": [
    {
     "data": {
      "text/latex": [
       "$\\displaystyle 3 q^{2} + 2 q - \\frac{5}{q} - \\frac{4}{q^{3}}$"
      ],
      "text/plain": [
       "<IPython.core.display.Math object>"
      ]
     },
     "metadata": {},
     "output_type": "display_data"
    }
   ],
   "source": [
    "display(Math(sym.latex(sym.simplify(eq))))"
   ]
  },
  {
   "cell_type": "code",
   "execution_count": 9,
   "id": "ebbbb9f6-5408-4e97-a0af-9aebf93b77ca",
   "metadata": {},
   "outputs": [
    {
     "data": {
      "text/latex": [
       "$\\displaystyle \\frac{3 q^{5} + 2 q^{4} - 5 q^{2} - 4}{q^{3}}$"
      ],
      "text/plain": [
       "<IPython.core.display.Math object>"
      ]
     },
     "metadata": {},
     "output_type": "display_data"
    }
   ],
   "source": [
    "display(Math(sym.latex(sym.cancel(eq))))"
   ]
  },
  {
   "cell_type": "code",
   "execution_count": 10,
   "id": "14d11b07-a6a2-4c38-8c8d-2a15ccf3171a",
   "metadata": {},
   "outputs": [
    {
     "data": {
      "text/latex": [
       "$\\displaystyle 18 x + 23 y$"
      ],
      "text/plain": [
       "<IPython.core.display.Math object>"
      ]
     },
     "metadata": {},
     "output_type": "display_data"
    }
   ],
   "source": [
    "x = sym.symbols('x')\n",
    "y = sym.symbols('y')\n",
    "eq2 = 3*(2*x + 5*y) + 4*(3*x + 2*y)\n",
    "display(Math(sym.latex(eq2)))"
   ]
  },
  {
   "cell_type": "code",
   "execution_count": 11,
   "id": "5bc38993-09b9-45a7-a2d3-1430ad58d88c",
   "metadata": {},
   "outputs": [
    {
     "data": {
      "text/latex": [
       "$\\displaystyle x=\\left[ - \\frac{23 y}{18}\\right]$"
      ],
      "text/plain": [
       "<IPython.core.display.Math object>"
      ]
     },
     "metadata": {},
     "output_type": "display_data"
    },
    {
     "data": {
      "text/latex": [
       "$\\displaystyle y=\\left[ - \\frac{18 x}{23}\\right]$"
      ],
      "text/plain": [
       "<IPython.core.display.Math object>"
      ]
     },
     "metadata": {},
     "output_type": "display_data"
    }
   ],
   "source": [
    "display(Math('x=' + sym.latex(sym.solve(eq2,x))))\n",
    "display(Math('y=' + sym.latex(sym.solve(eq2,y))))"
   ]
  },
  {
   "cell_type": "code",
   "execution_count": 12,
   "id": "5ca6eebd-969a-4d4f-901b-c4ab2bfb5bdc",
   "metadata": {},
   "outputs": [
    {
     "data": {
      "text/latex": [
       "$\\displaystyle n^{2} + 7 n - 30$"
      ],
      "text/plain": [
       "<IPython.core.display.Math object>"
      ]
     },
     "metadata": {},
     "output_type": "display_data"
    }
   ],
   "source": [
    "n = sym.symbols('n')\n",
    "eq3 = n**2 + 7*n - 30\n",
    "display(Math(sym.latex(eq3)))"
   ]
  },
  {
   "cell_type": "code",
   "execution_count": 13,
   "id": "ddd8f9ba-9df3-43ba-a186-f6ebc7e1f811",
   "metadata": {},
   "outputs": [
    {
     "data": {
      "text/latex": [
       "$\\displaystyle n=\\left[ -10, \\  3\\right]$"
      ],
      "text/plain": [
       "<IPython.core.display.Math object>"
      ]
     },
     "metadata": {},
     "output_type": "display_data"
    }
   ],
   "source": [
    "display(Math('n=' + sym.latex(sym.solve(eq3,n))))"
   ]
  },
  {
   "cell_type": "code",
   "execution_count": 15,
   "id": "6ee2c972-4c8a-418e-b153-9d77b4af1be7",
   "metadata": {},
   "outputs": [
    {
     "data": {
      "text/latex": [
       "$\\displaystyle \\left(n - 3\\right) \\left(n + 10\\right)$"
      ],
      "text/plain": [
       "(n - 3)*(n + 10)"
      ]
     },
     "execution_count": 15,
     "metadata": {},
     "output_type": "execute_result"
    }
   ],
   "source": [
    "sym.factor(eq3)"
   ]
  },
  {
   "cell_type": "code",
   "execution_count": 17,
   "id": "8b7a0842-d209-42e4-8eda-83aaceea48a3",
   "metadata": {},
   "outputs": [
    {
     "data": {
      "text/latex": [
       "$\\displaystyle \\frac{6 a^{2} - 7 a + 2}{- 15 a^{2} + 10 a}$"
      ],
      "text/plain": [
       "<IPython.core.display.Math object>"
      ]
     },
     "metadata": {},
     "output_type": "display_data"
    }
   ],
   "source": [
    "a = sym.symbols('a')\n",
    "eq4 = (6*a**2 - 7*a + 2) / (10*a - 15*a**2)\n",
    "display(Math(sym.latex(eq4)))"
   ]
  },
  {
   "cell_type": "code",
   "execution_count": 18,
   "id": "d41d4e46-f117-49b4-81e5-3601ca8e2abd",
   "metadata": {},
   "outputs": [
    {
     "data": {
      "text/latex": [
       "$\\displaystyle \\frac{1 - 2 a}{5 a}$"
      ],
      "text/plain": [
       "<IPython.core.display.Math object>"
      ]
     },
     "metadata": {},
     "output_type": "display_data"
    }
   ],
   "source": [
    "display(Math(sym.latex(sym.simplify(eq4))))"
   ]
  },
  {
   "cell_type": "code",
   "execution_count": 20,
   "id": "d0e776c8-5c00-42f9-8f1e-e39ceea06e0e",
   "metadata": {},
   "outputs": [],
   "source": [
    "z = sym.symbols('z')\n",
    "eq5 = (3*z**3 - 2*z**2 + 6*z) / (z + 4)"
   ]
  },
  {
   "cell_type": "code",
   "execution_count": 21,
   "id": "62b24577-85f3-43c8-b432-2ebb7ae60cd3",
   "metadata": {},
   "outputs": [
    {
     "data": {
      "text/latex": [
       "$\\displaystyle \\frac{3 z^{3} - 2 z^{2} + 6 z}{z + 4}$"
      ],
      "text/plain": [
       "<IPython.core.display.Math object>"
      ]
     },
     "metadata": {},
     "output_type": "display_data"
    }
   ],
   "source": [
    "display(Math(sym.latex(eq5)))"
   ]
  },
  {
   "cell_type": "code",
   "execution_count": 22,
   "id": "cd151d30-f25e-420f-a554-fc4d4bd2b134",
   "metadata": {},
   "outputs": [
    {
     "data": {
      "text/latex": [
       "$\\displaystyle \\frac{z \\left(3 z^{2} - 2 z + 6\\right)}{z + 4}$"
      ],
      "text/plain": [
       "<IPython.core.display.Math object>"
      ]
     },
     "metadata": {},
     "output_type": "display_data"
    }
   ],
   "source": [
    "display(Math(sym.latex(sym.simplify(eq5))))"
   ]
  },
  {
   "cell_type": "code",
   "execution_count": 23,
   "id": "8922f0e8-ee6c-49c9-8d74-88f3f9cb6826",
   "metadata": {},
   "outputs": [
    {
     "data": {
      "text/latex": [
       "$\\displaystyle n=\\left[ 0, \\  \\frac{1}{3} - \\frac{\\sqrt{17} i}{3}, \\  \\frac{1}{3} + \\frac{\\sqrt{17} i}{3}\\right]$"
      ],
      "text/plain": [
       "<IPython.core.display.Math object>"
      ]
     },
     "metadata": {},
     "output_type": "display_data"
    }
   ],
   "source": [
    "display(Math('n=' + sym.latex(sym.solve(eq5,z))))"
   ]
  },
  {
   "cell_type": "code",
   "execution_count": null,
   "id": "65f1e0d9-586b-4548-afbb-c633d8a82a1b",
   "metadata": {},
   "outputs": [],
   "source": []
  },
  {
   "cell_type": "code",
   "execution_count": null,
   "id": "78c0c1bb-088d-4847-96cf-2b49f2515e6d",
   "metadata": {},
   "outputs": [],
   "source": []
  },
  {
   "cell_type": "code",
   "execution_count": null,
   "id": "f0765ef0-5a79-48cb-b9e0-16db477d8f34",
   "metadata": {},
   "outputs": [],
   "source": []
  }
 ],
 "metadata": {
  "kernelspec": {
   "display_name": "Python 3 (ipykernel)",
   "language": "python",
   "name": "python3"
  },
  "language_info": {
   "codemirror_mode": {
    "name": "ipython",
    "version": 3
   },
   "file_extension": ".py",
   "mimetype": "text/x-python",
   "name": "python",
   "nbconvert_exporter": "python",
   "pygments_lexer": "ipython3",
   "version": "3.12.1"
  }
 },
 "nbformat": 4,
 "nbformat_minor": 5
}
