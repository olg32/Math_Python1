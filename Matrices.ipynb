{
 "cells": [
  {
   "cell_type": "code",
   "execution_count": 1,
   "id": "24a86744-2146-40be-9bac-44740c8e5de6",
   "metadata": {},
   "outputs": [],
   "source": [
    "import sympy as sym\n",
    "import numpy as np\n",
    "from IPython.display import display,Math"
   ]
  },
  {
   "cell_type": "code",
   "execution_count": 2,
   "id": "174cf9e2-c08b-4758-933c-fd8050e7c6b2",
   "metadata": {},
   "outputs": [
    {
     "data": {
      "text/plain": [
       "list"
      ]
     },
     "execution_count": 2,
     "metadata": {},
     "output_type": "execute_result"
    }
   ],
   "source": [
    "A = [[1,2],[3,4]]\n",
    "type(A)"
   ]
  },
  {
   "cell_type": "markdown",
   "id": "ffae5578-f974-4b98-96f9-3bfc96d0bc83",
   "metadata": {},
   "source": [
    "#In order to convert a list into a matrix do the following:"
   ]
  },
  {
   "cell_type": "code",
   "execution_count": 4,
   "id": "4f4549cc-12ab-4d0a-ab0e-3aae222737d7",
   "metadata": {},
   "outputs": [
    {
     "data": {
      "text/plain": [
       "numpy.ndarray"
      ]
     },
     "execution_count": 4,
     "metadata": {},
     "output_type": "execute_result"
    }
   ],
   "source": [
    "A = np.array([[1,2],[3,4]])\n",
    "type(A)"
   ]
  },
  {
   "cell_type": "code",
   "execution_count": 6,
   "id": "53f5df8d-efe7-478b-9274-84ddfdadc6c2",
   "metadata": {},
   "outputs": [
    {
     "data": {
      "text/latex": [
       "$\\displaystyle \\left[\\begin{matrix}1 & 2\\\\3 & 4\\end{matrix}\\right]$"
      ],
      "text/plain": [
       "<IPython.core.display.Math object>"
      ]
     },
     "metadata": {},
     "output_type": "display_data"
    }
   ],
   "source": [
    "display(Math(sym.latex(sym.sympify(A))))"
   ]
  },
  {
   "cell_type": "code",
   "execution_count": 7,
   "id": "673002af-1a05-4093-b6dc-15721df7e15d",
   "metadata": {},
   "outputs": [
    {
     "data": {
      "text/plain": [
       "array([[0., 0., 0., 0., 0., 0.],\n",
       "       [0., 0., 0., 7., 0., 0.],\n",
       "       [0., 0., 0., 0., 8., 0.],\n",
       "       [0., 0., 0., 0., 0., 0.]])"
      ]
     },
     "execution_count": 7,
     "metadata": {},
     "output_type": "execute_result"
    }
   ],
   "source": [
    "mat = np.zeros([4,6])\n",
    "mat[2,4] = 8\n",
    "mat[1,3] = 7\n",
    "mat"
   ]
  },
  {
   "cell_type": "code",
   "execution_count": 8,
   "id": "0c2bb42a-9104-4dc5-89c4-0f552bccd241",
   "metadata": {},
   "outputs": [
    {
     "data": {
      "text/plain": [
       "array([[1., 1., 1., 1., 0., 0.],\n",
       "       [2., 2., 2., 2., 0., 0.],\n",
       "       [3., 3., 3., 3., 8., 0.],\n",
       "       [4., 4., 4., 4., 0., 0.]])"
      ]
     },
     "execution_count": 8,
     "metadata": {},
     "output_type": "execute_result"
    }
   ],
   "source": [
    "numrange = range(0,4)\n",
    "for rowi in numrange:\n",
    "    for coli in numrange:\n",
    "        mat[rowi,coli] = (1+rowi)\n",
    "mat        "
   ]
  },
  {
   "cell_type": "code",
   "execution_count": 14,
   "id": "f8497e65-e137-43cc-99d9-f12defdf1129",
   "metadata": {},
   "outputs": [
    {
     "data": {
      "text/latex": [
       "$\\displaystyle \\left[\\begin{matrix}8.0 & 4.0 & 0.0\\\\10.0 & 5.0 & 0.0\\\\12.0 & 6.0 & 0.0\\end{matrix}\\right]$"
      ],
      "text/plain": [
       "<IPython.core.display.Math object>"
      ]
     },
     "metadata": {},
     "output_type": "display_data"
    },
    {
     "data": {
      "text/plain": [
       "array([[ 8.,  4.,  0.],\n",
       "       [10.,  5.,  0.],\n",
       "       [12.,  6.,  0.]])"
      ]
     },
     "execution_count": 14,
     "metadata": {},
     "output_type": "execute_result"
    }
   ],
   "source": [
    "x,y = sym.symbols('x y')\n",
    "Fxy = (4+x)*(2-y)\n",
    "xyset = range(0,3)\n",
    "outmat = np.zeros([len(xyset),len(xyset)])\n",
    "for i in xyset:\n",
    "    for j in xyset:\n",
    "        outmat[i,j] = Fxy.subs({x:i,y:j})\n",
    "display(Math(sym.latex(sym.sympify(outmat))))\n",
    "outmat        "
   ]
  },
  {
   "cell_type": "markdown",
   "id": "67d6d771-9bc1-4a13-9def-b5f7df5b7efa",
   "metadata": {},
   "source": [
    "### Multiplication table"
   ]
  },
  {
   "cell_type": "code",
   "execution_count": 19,
   "id": "9b7060c6-0f9f-4d70-80ca-206d9b83356b",
   "metadata": {},
   "outputs": [
    {
     "data": {
      "text/latex": [
       "$\\displaystyle \\left[\\begin{array}{}0 & 0 & 0 & 0 & 0 & 0 & 0 & 0 & 0 & 0 & 0\\\\0 & 1 & 2 & 3 & 4 & 5 & 6 & 7 & 8 & 9 & 10\\\\0 & 2 & 4 & 6 & 8 & 10 & 12 & 14 & 16 & 18 & 20\\\\0 & 3 & 6 & 9 & 12 & 15 & 18 & 21 & 24 & 27 & 30\\\\0 & 4 & 8 & 12 & 16 & 20 & 24 & 28 & 32 & 36 & 40\\\\0 & 5 & 10 & 15 & 20 & 25 & 30 & 35 & 40 & 45 & 50\\\\0 & 6 & 12 & 18 & 24 & 30 & 36 & 42 & 48 & 54 & 60\\\\0 & 7 & 14 & 21 & 28 & 35 & 42 & 49 & 56 & 63 & 70\\\\0 & 8 & 16 & 24 & 32 & 40 & 48 & 56 & 64 & 72 & 80\\\\0 & 9 & 18 & 27 & 36 & 45 & 54 & 63 & 72 & 81 & 90\\\\0 & 10 & 20 & 30 & 40 & 50 & 60 & 70 & 80 & 90 & 100\\end{array}\\right]$"
      ],
      "text/plain": [
       "<IPython.core.display.Math object>"
      ]
     },
     "metadata": {},
     "output_type": "display_data"
    }
   ],
   "source": [
    "nums = range(0,11)\n",
    "matmult = np.zeros((len(nums),len(nums)),dtype=int)\n",
    "for rowi in nums:\n",
    "    for coli in nums:\n",
    "        matmult[rowi,coli] = rowi*coli\n",
    "display(Math(sym.latex(sym.sympify(matmult))))"
   ]
  },
  {
   "cell_type": "code",
   "execution_count": null,
   "id": "6481e22f-78d4-479b-9827-ea947dfce71c",
   "metadata": {},
   "outputs": [],
   "source": []
  },
  {
   "cell_type": "code",
   "execution_count": null,
   "id": "15cfc2b2-d36b-4aef-b5a1-fd71287c91e0",
   "metadata": {},
   "outputs": [],
   "source": []
  },
  {
   "cell_type": "code",
   "execution_count": null,
   "id": "6c10cce5-b01b-4389-be12-ebc71c80b21c",
   "metadata": {},
   "outputs": [],
   "source": []
  },
  {
   "cell_type": "code",
   "execution_count": null,
   "id": "a7408049-ddb0-4a09-a056-46df6cc48324",
   "metadata": {},
   "outputs": [],
   "source": []
  },
  {
   "cell_type": "code",
   "execution_count": null,
   "id": "6e4a1657-520e-4599-823b-a230e2e42b7d",
   "metadata": {},
   "outputs": [],
   "source": []
  },
  {
   "cell_type": "code",
   "execution_count": null,
   "id": "a06c2774-aefa-4dbf-984d-a6bfa2a35d37",
   "metadata": {},
   "outputs": [],
   "source": []
  }
 ],
 "metadata": {
  "kernelspec": {
   "display_name": "Python 3 (ipykernel)",
   "language": "python",
   "name": "python3"
  },
  "language_info": {
   "codemirror_mode": {
    "name": "ipython",
    "version": 3
   },
   "file_extension": ".py",
   "mimetype": "text/x-python",
   "name": "python",
   "nbconvert_exporter": "python",
   "pygments_lexer": "ipython3",
   "version": "3.12.1"
  }
 },
 "nbformat": 4,
 "nbformat_minor": 5
}
