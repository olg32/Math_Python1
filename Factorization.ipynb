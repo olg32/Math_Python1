{
 "cells": [
  {
   "cell_type": "code",
   "execution_count": 1,
   "id": "fab7ba21-3f3d-40d5-95b4-4dbc3ca764fb",
   "metadata": {},
   "outputs": [],
   "source": [
    "import sympy as sym\n",
    "from IPython.display import display,Math"
   ]
  },
  {
   "cell_type": "code",
   "execution_count": 2,
   "id": "0895b95a-4d2a-4ade-a479-e1a672494efa",
   "metadata": {},
   "outputs": [
    {
     "data": {
      "text/latex": [
       "$\\displaystyle \\left(x + 1\\right) \\left(x + 3\\right)$"
      ],
      "text/plain": [
       "(x + 1)*(x + 3)"
      ]
     },
     "execution_count": 2,
     "metadata": {},
     "output_type": "execute_result"
    }
   ],
   "source": [
    "x,y = sym.symbols('x,y')\n",
    "\n",
    "p = x**2 + 4*x + 3\n",
    "sym.factor(p)"
   ]
  },
  {
   "cell_type": "code",
   "execution_count": 4,
   "id": "a95db860-2202-41f9-9326-289b167c1406",
   "metadata": {},
   "outputs": [
    {
     "data": {
      "text/latex": [
       "$\\displaystyle x^{2} + 4 x + 3 \\quad  \\Rightarrow\\quad \\left(x + 1\\right) \\left(x + 3\\right)$"
      ],
      "text/plain": [
       "<IPython.core.display.Math object>"
      ]
     },
     "metadata": {},
     "output_type": "display_data"
    },
    {
     "data": {
      "text/latex": [
       "$\\displaystyle 2 y^{2} - 1 \\quad  \\Rightarrow\\quad \\text{Not Factorable!!}$"
      ],
      "text/plain": [
       "<IPython.core.display.Math object>"
      ]
     },
     "metadata": {},
     "output_type": "display_data"
    },
    {
     "data": {
      "text/latex": [
       "$\\displaystyle 3 y^{2} + 12 y \\quad  \\Rightarrow\\quad 3 y \\left(y + 4\\right)$"
      ],
      "text/plain": [
       "<IPython.core.display.Math object>"
      ]
     },
     "metadata": {},
     "output_type": "display_data"
    }
   ],
   "source": [
    "exprs = [ x**2 + 4*x + 3 , 2*y**2 - 1, 3*y**2 + 12*y ]\n",
    "\n",
    "for ei in exprs:\n",
    "    strfact = str(sym.factor(ei))\n",
    "    if strfact.find('(') !=-1:\n",
    "        display(Math('%s \\\\quad  \\\\Rightarrow\\\\quad %s' %(sym.latex(ei),sym.latex(sym.factor(ei)))))\n",
    "    else:\n",
    "        display(Math('%s \\\\quad  \\\\Rightarrow\\\\quad \\\\text{Not Factorable!!}' %(sym.latex(ei))))"
   ]
  },
  {
   "cell_type": "code",
   "execution_count": null,
   "id": "b5219c15-62c0-4d95-a4ed-a186a642a2fa",
   "metadata": {},
   "outputs": [],
   "source": []
  },
  {
   "cell_type": "code",
   "execution_count": null,
   "id": "ebf66994-5bdf-42e4-a5e7-7eed18c3089a",
   "metadata": {},
   "outputs": [],
   "source": []
  },
  {
   "cell_type": "code",
   "execution_count": null,
   "id": "62c31c62-e937-4ddd-bfa2-e06119beed0c",
   "metadata": {},
   "outputs": [],
   "source": []
  },
  {
   "cell_type": "code",
   "execution_count": null,
   "id": "f00f54d6-eb3f-475a-860c-7b9b918c4e10",
   "metadata": {},
   "outputs": [],
   "source": []
  },
  {
   "cell_type": "code",
   "execution_count": null,
   "id": "c2964855-d2a2-4f68-a0e4-867cff275cf7",
   "metadata": {},
   "outputs": [],
   "source": []
  },
  {
   "cell_type": "code",
   "execution_count": null,
   "id": "6ea089f8-4d4d-4599-936d-744e842f5908",
   "metadata": {},
   "outputs": [],
   "source": []
  },
  {
   "cell_type": "code",
   "execution_count": null,
   "id": "da920863-0866-4e08-8cc2-b2c1bb2756bb",
   "metadata": {},
   "outputs": [],
   "source": []
  },
  {
   "cell_type": "code",
   "execution_count": null,
   "id": "1c1ed2d8-712e-47b7-aded-b7e5df4d6505",
   "metadata": {},
   "outputs": [],
   "source": []
  },
  {
   "cell_type": "code",
   "execution_count": null,
   "id": "c1547df2-9e24-433e-b7bc-c2a9f6721400",
   "metadata": {},
   "outputs": [],
   "source": []
  }
 ],
 "metadata": {
  "kernelspec": {
   "display_name": "Python 3 (ipykernel)",
   "language": "python",
   "name": "python3"
  },
  "language_info": {
   "codemirror_mode": {
    "name": "ipython",
    "version": 3
   },
   "file_extension": ".py",
   "mimetype": "text/x-python",
   "name": "python",
   "nbconvert_exporter": "python",
   "pygments_lexer": "ipython3",
   "version": "3.12.1"
  }
 },
 "nbformat": 4,
 "nbformat_minor": 5
}
