{
 "cells": [
  {
   "cell_type": "code",
   "execution_count": 1,
   "id": "69486813-ac17-4c16-a938-856f68b44d60",
   "metadata": {},
   "outputs": [
    {
     "name": "stdin",
     "output_type": "stream",
     "text": [
      "Input a number 3.0\n",
      "Input another number 5.0\n"
     ]
    },
    {
     "name": "stdout",
     "output_type": "stream",
     "text": [
      "The sum of 3.000000 and 5.000000 is 8.000000\n"
     ]
    }
   ],
   "source": [
    "w=float(input('Input a number'))\n",
    "z=float(input('Input another number'))\n",
    "print('The sum of %f and %f is %f' %(w,z,w+z))"
   ]
  },
  {
   "cell_type": "markdown",
   "id": "aad0c705-e5b9-4c5a-b0fe-75cbec5fbb01",
   "metadata": {},
   "source": [
    "# This is a text \n",
    "no Python code here"
   ]
  },
  {
   "cell_type": "markdown",
   "id": "d30a52fb-cbe9-45f0-b97e-8599dd3941e6",
   "metadata": {},
   "source": [
    "### This is a smaller text with 3 hash symbols"
   ]
  },
  {
   "cell_type": "code",
   "execution_count": 2,
   "id": "042e2eb7-e84c-4ede-996c-00c6d55c43f5",
   "metadata": {},
   "outputs": [
    {
     "name": "stdout",
     "output_type": "stream",
     "text": [
      "Hi my name is Mike and I eat 7 chocolates every day\n"
     ]
    }
   ],
   "source": [
    "# f-Strings\n",
    "svar='Mike'\n",
    "nvar=7\n",
    "\n",
    "print(f'Hi my name is {svar} and I eat {nvar} chocolates every day')"
   ]
  },
  {
   "cell_type": "code",
   "execution_count": null,
   "id": "f6c43fb7-8789-4a10-865a-84c3bca6e74a",
   "metadata": {},
   "outputs": [],
   "source": []
  },
  {
   "cell_type": "code",
   "execution_count": null,
   "id": "3dedd13e-184b-4c90-8716-1ccb30bd8446",
   "metadata": {},
   "outputs": [],
   "source": []
  },
  {
   "cell_type": "code",
   "execution_count": null,
   "id": "a080b9ae-6c63-4cb1-a0ad-12ef8a185eea",
   "metadata": {},
   "outputs": [],
   "source": []
  },
  {
   "cell_type": "code",
   "execution_count": null,
   "id": "77e993d1-1db8-4035-8e75-74a02c4901c6",
   "metadata": {},
   "outputs": [],
   "source": []
  }
 ],
 "metadata": {
  "kernelspec": {
   "display_name": "Python 3 (ipykernel)",
   "language": "python",
   "name": "python3"
  },
  "language_info": {
   "codemirror_mode": {
    "name": "ipython",
    "version": 3
   },
   "file_extension": ".py",
   "mimetype": "text/x-python",
   "name": "python",
   "nbconvert_exporter": "python",
   "pygments_lexer": "ipython3",
   "version": "3.12.1"
  }
 },
 "nbformat": 4,
 "nbformat_minor": 5
}
